{
  "nbformat": 4,
  "nbformat_minor": 0,
  "metadata": {
    "colab": {
      "provenance": [],
      "authorship_tag": "ABX9TyNpWv4ZaWvXI7cXJMUvh+Fl",
      "include_colab_link": true
    },
    "kernelspec": {
      "name": "python3",
      "display_name": "Python 3"
    },
    "language_info": {
      "name": "python"
    }
  },
  "cells": [
    {
      "cell_type": "markdown",
      "metadata": {
        "id": "view-in-github",
        "colab_type": "text"
      },
      "source": [
        "<a href=\"https://colab.research.google.com/github/minchulock/liner-pdf-chat-tutorial/blob/main/%EB%A7%A4%EC%9E%A5_%EB%A6%AC%EB%B7%B0_%EA%B0%9C%EC%84%A0_%EC%B1%97%EB%B4%87.ipynb\" target=\"_parent\"><img src=\"https://colab.research.google.com/assets/colab-badge.svg\" alt=\"Open In Colab\"/></a>"
      ]
    },
    {
      "cell_type": "code",
      "source": [
        "본 코드는 Hyperclova X 모델에 미리 준비한 리뷰 데이터셋을 PEFT 튜닝을 하여\n",
        "챗봇으로 개선점을 도출하는 예제코드 입니다."
      ],
      "metadata": {
        "id": "Pk-y9yZ_cARR"
      },
      "execution_count": null,
      "outputs": []
    },
    {
      "cell_type": "code",
      "execution_count": null,
      "metadata": {
        "id": "8mFnlnEuZOm4"
      },
      "outputs": [],
      "source": [
        "# 1_스트림릿 설치\n",
        "!pip install -q streamlit\n",
        "!pip install -q streamlit_chat"
      ]
    },
    {
      "cell_type": "code",
      "source": [
        "!pip list | grep streamlit"
      ],
      "metadata": {
        "colab": {
          "base_uri": "https://localhost:8080/"
        },
        "id": "22G1XHmE0NRy",
        "outputId": "45c93e55-20de-4609-a64b-4c87aaa3d342"
      },
      "execution_count": null,
      "outputs": [
        {
          "output_type": "stream",
          "name": "stdout",
          "text": [
            "streamlit                        1.29.0\n",
            "streamlit-chat                   0.1.1\n"
          ]
        }
      ]
    },
    {
      "cell_type": "markdown",
      "source": [
        "https://api.ncloud-docs.com/docs/clovastudio-sendchatcompletionsbymodelname\n",
        "네이버클라우드의 CLOVAStudio API 가이드 문서를 참고하여 작성 합니다."
      ],
      "metadata": {
        "id": "9TtAdadL91JJ"
      }
    },
    {
      "cell_type": "markdown",
      "source": [
        "아래 코드에서 {path}, {api_key}, {api_key_primary_val},{requset_id} 는 각자 자신의 키를 발급 받아 수정해야 합니다."
      ],
      "metadata": {
        "id": "tW3D_7MxazoC"
      }
    },
    {
      "cell_type": "code",
      "source": [
        "# 2_스트림릿 화면에 띄울 내용\n",
        "\n",
        "%%writefile app.py\n",
        "\n",
        "import streamlit as st\n",
        "from streamlit_chat import message\n",
        "import base64\n",
        "import json\n",
        "import http.client\n",
        "import ssl\n",
        "import requests\n",
        "import re\n",
        "\n",
        "try:\n",
        "    _create_unverified_https_context = ssl._create_unverified_context\n",
        "except AttributeError:\n",
        "    pass\n",
        "else:\n",
        "    ssl._create_default_https_context = _create_unverified_https_context\n",
        "\n",
        "class CompletionExecutor:\n",
        "    def __init__(self, host, api_key, api_key_primary_val, request_id):\n",
        "        self._host = host\n",
        "        self._api_key = api_key\n",
        "        self._api_key_primary_val = api_key_primary_val\n",
        "        self._request_id = request_id\n",
        "\n",
        "    def _send_request(self, completion_request):\n",
        "        headers = {\n",
        "            'X-NCP-CLOVASTUDIO-API-KEY': self._api_key,\n",
        "            'X-NCP-APIGW-API-KEY': self._api_key_primary_val,\n",
        "            'X-NCP-CLOVASTUDIO-REQUEST-ID': self._request_id,\n",
        "            'Content-Type': 'application/json; charset=utf-8'\n",
        "        }\n",
        "\n",
        "        # Initialize result variable\n",
        "        result = None\n",
        "\n",
        "        try:\n",
        "            # Use requests.post for making an HTTP POST request\n",
        "\n",
        "            # Tunning model\n",
        "            response = requests.post(\n",
        "                f\"{self._host}/testapp/v1/tasks/{path}/chat-completions\",\n",
        "                headers=headers, json=completion_request, stream=False\n",
        "            )\n",
        "\n",
        "            # Check if the request was successful (status code 200)\n",
        "            if response.status_code == 200:\n",
        "                result = response.json()\n",
        "            else:\n",
        "                print(f\"Request failed with status code: {response.status_code}\")\n",
        "        except requests.RequestException as e:\n",
        "            # Handle exceptions, log, or raise accordingly\n",
        "            print(f\"Request failed: {e}\")\n",
        "\n",
        "        return result\n",
        "\n",
        "\n",
        "    def execute(self, completion_request):\n",
        "        res = self._send_request(completion_request)\n",
        "\n",
        "        if res['status']['code'] == '40103':\n",
        "            # Check whether the token has expired and reissue the token.\n",
        "            self._access_token = None\n",
        "            return self.execute(completion_request)\n",
        "        elif res['status']['code'] == '20000':\n",
        "            return res['result']['message']['content']\n",
        "        else:\n",
        "            return 'Error'\n",
        "\n",
        "\n",
        "st.title(\"토픽이 주어졌을 때 기 학습된 내용을 토대로 개선점을 도출 하는 것이 목적\")\n",
        "\n",
        "if 'generated' not in st.session_state:\n",
        "    st.session_state['generated'] = []\n",
        "\n",
        "if 'past' not in st.session_state:\n",
        "    st.session_state['past'] = []\n",
        "\n",
        "with st.form('form', clear_on_submit=True):\n",
        "    user_input = st.text_input('You: ', '', key='input')\n",
        "    submitted = st.form_submit_button('Send')\n",
        "\n",
        "    if submitted and user_input:\n",
        "        with st.spinner(\"Waiting for HyperCLOVA...\"):\n",
        "\n",
        "            # Tunning model\n",
        "            completion_executor = CompletionExecutor(\n",
        "                    host='https://clovastudio.stream.ntruss.com',\n",
        "                    api_key='{api_key}',\n",
        "                    api_key_primary_val='{api_key_primary_val}',\n",
        "                    request_id='{requset_id}'\n",
        "                )\n",
        "\n",
        "\n",
        "            preset_text = [{\"role\": \"system\", \"content\": \"User 의 입력된 토픽, 키워드의 내용을 보고 지점의 개선점을 출력하는 챗봇 입니다.\\n- 지점별 학습된 내용을 토대로 개선점을 도출 합니다.\\n- 지점명은 출력하지 않습니다.\"},\n",
        "                                  {\"role\": \"user\", \"content\": user_input}]\n",
        "\n",
        "            request_data = {\n",
        "                'messages': preset_text,\n",
        "                'topP': 0.8,\n",
        "                'topK': 0,\n",
        "                'maxTokens': 256,\n",
        "                'temperature': 0.5,\n",
        "                'repeatPenalty': 5.0,\n",
        "                'stopBefore': [],\n",
        "                'includeAiFilters': True\n",
        "            }\n",
        "\n",
        "            response_text = completion_executor.execute(request_data)\n",
        "\n",
        "            st.session_state.past.append(user_input)\n",
        "            st.session_state.generated.append(response_text)\n",
        "\n",
        "    if st.session_state['generated']:\n",
        "        for i in range(len(st.session_state['generated'])-1, -1, -1):\n",
        "            message(st.session_state['past'][i], is_user=True, key=str(i) + '_user')\n",
        "            message(st.session_state[\"generated\"][i], key=str(i))\n"
      ],
      "metadata": {
        "colab": {
          "base_uri": "https://localhost:8080/"
        },
        "id": "x8JZvvuyZ5Wk",
        "outputId": "6b58a4ed-83a0-4c16-c4e0-e0e5d7f9b562"
      },
      "execution_count": null,
      "outputs": [
        {
          "output_type": "stream",
          "name": "stdout",
          "text": [
            "Writing app.py\n"
          ]
        }
      ]
    },
    {
      "cell_type": "code",
      "source": [
        "# 3\n",
        "import urllib\n",
        "print(\"Password/Enpoint IP for localtunnel is:\",urllib.request.urlopen('https://ipv4.icanhazip.com').read().decode('utf8').strip(\"\\n\"))"
      ],
      "metadata": {
        "id": "IXBJgvh7aK0y",
        "colab": {
          "base_uri": "https://localhost:8080/"
        },
        "outputId": "d499e601-a2ee-4a4d-ea5a-da99d3beaa45"
      },
      "execution_count": null,
      "outputs": [
        {
          "output_type": "stream",
          "name": "stdout",
          "text": [
            "Password/Enpoint IP for localtunnel is: 34.86.244.177\n"
          ]
        }
      ]
    },
    {
      "cell_type": "code",
      "source": [
        "# 4\n",
        "!npm install localtunnel"
      ],
      "metadata": {
        "colab": {
          "base_uri": "https://localhost:8080/"
        },
        "id": "rIK6EnLJaT0b",
        "outputId": "2e807a14-10c7-4a65-e802-4d5bc897216d"
      },
      "execution_count": null,
      "outputs": [
        {
          "output_type": "stream",
          "name": "stdout",
          "text": [
            "\u001b[K\u001b[?25h\u001b[37;40mnpm\u001b[0m \u001b[0m\u001b[30;43mWARN\u001b[0m \u001b[0m\u001b[35msaveError\u001b[0m ENOENT: no such file or directory, open '/content/package.json'\n",
            "\u001b[0m\u001b[37;40mnpm\u001b[0m \u001b[0m\u001b[34;40mnotice\u001b[0m\u001b[35m\u001b[0m created a lockfile as package-lock.json. You should commit this file.\n",
            "\u001b[0m\u001b[37;40mnpm\u001b[0m \u001b[0m\u001b[30;43mWARN\u001b[0m \u001b[0m\u001b[35menoent\u001b[0m ENOENT: no such file or directory, open '/content/package.json'\n",
            "\u001b[0m\u001b[37;40mnpm\u001b[0m \u001b[0m\u001b[30;43mWARN\u001b[0m\u001b[35m\u001b[0m content No description\n",
            "\u001b[0m\u001b[37;40mnpm\u001b[0m \u001b[0m\u001b[30;43mWARN\u001b[0m\u001b[35m\u001b[0m content No repository field.\n",
            "\u001b[0m\u001b[37;40mnpm\u001b[0m \u001b[0m\u001b[30;43mWARN\u001b[0m\u001b[35m\u001b[0m content No README data\n",
            "\u001b[0m\u001b[37;40mnpm\u001b[0m \u001b[0m\u001b[30;43mWARN\u001b[0m\u001b[35m\u001b[0m content No license field.\n",
            "\u001b[0m\n",
            "+ localtunnel@2.0.2\n",
            "added 22 packages from 22 contributors and audited 22 packages in 1.57s\n",
            "\n",
            "3 packages are looking for funding\n",
            "  run `npm fund` for details\n",
            "\n",
            "found 1 \u001b[93mmoderate\u001b[0m severity vulnerability\n",
            "  run `npm audit fix` to fix them, or `npm audit` for details\n",
            "\u001b[K\u001b[?25h"
          ]
        }
      ]
    },
    {
      "cell_type": "code",
      "source": [
        "# 5\n",
        "!streamlit run app.py &>/content/logs.txt &"
      ],
      "metadata": {
        "id": "TcHSfGrCb8OE"
      },
      "execution_count": null,
      "outputs": []
    },
    {
      "cell_type": "code",
      "source": [
        "# 6\n",
        "!npx localtunnel --port 8501"
      ],
      "metadata": {
        "colab": {
          "base_uri": "https://localhost:8080/"
        },
        "id": "-NLQGocwcBVN",
        "outputId": "ad5ff113-160a-4417-9e03-1114ae09186a"
      },
      "execution_count": null,
      "outputs": [
        {
          "output_type": "stream",
          "name": "stdout",
          "text": [
            "\u001b[K\u001b[?25hnpx: installed 22 in 1.423s\n",
            "your url is: https://spotty-files-bow.loca.lt\n"
          ]
        }
      ]
    }
  ]
}